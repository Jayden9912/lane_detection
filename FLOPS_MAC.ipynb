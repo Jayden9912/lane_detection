{
 "cells": [
  {
   "cell_type": "code",
   "execution_count": 1,
   "metadata": {},
   "outputs": [],
   "source": [
    "class LDoptions:\n",
    "    def __init__(self):\n",
    "        # path config\n",
    "        self.pooling_method = \"avg\"\n",
    "        self.embed_dims = [32, 64, 160, 256]\n",
    "        self.num_heads = [1, 2, 5, 8]\n",
    "        self.mlp_ratios = [4, 4, 4, 4]\n",
    "        self.without_qkv_bias = True\n",
    "        self.encoder_depths = [2, 2, 2, 2]\n",
    "        self.sr_ratio = [2, 2, 1, 1]\n",
    "        self.attention_drop_rate = 0.0\n",
    "        self.drop_path_rate = 0.1\n",
    "        self.se_layer = True"
   ]
  },
  {
   "cell_type": "code",
   "execution_count": 3,
   "metadata": {},
   "outputs": [
    {
     "name": "stdout",
     "output_type": "stream",
     "text": [
      "[INFO] Register count_convNd() for <class 'torch.nn.modules.conv.Conv2d'>.\n",
      "[INFO] Register count_normalization() for <class 'torch.nn.modules.normalization.LayerNorm'>.\n",
      "[INFO] Register count_linear() for <class 'torch.nn.modules.linear.Linear'>.\n",
      "[INFO] Register zero_ops() for <class 'torch.nn.modules.dropout.Dropout'>.\n",
      "[INFO] Register count_adap_avgpool() for <class 'torch.nn.modules.pooling.AdaptiveAvgPool2d'>.\n",
      "[INFO] Register zero_ops() for <class 'torch.nn.modules.activation.ReLU'>.\n",
      "[INFO] Register zero_ops() for <class 'torch.nn.modules.container.Sequential'>.\n",
      "[INFO] Register count_normalization() for <class 'torch.nn.modules.batchnorm.BatchNorm2d'>.\n",
      "[INFO] Register count_softmax() for <class 'torch.nn.modules.activation.Softmax'>.\n",
      "[INFO] Register count_avgpool() for <class 'torch.nn.modules.pooling.AvgPool2d'>.\n",
      "3.861298944 18.223913\n"
     ]
    }
   ],
   "source": [
    "#calculating FLOPs and Params\n",
    "from model_segformer import segformer\n",
    "from thop import profile\n",
    "import torch\n",
    "model_config = LDoptions()\n",
    "model = segformer(model_config, \"Tusimple\", pretrained=False)\n",
    "input = torch.randn(1, 3, 288, 512)\n",
    "macs, params = profile(model, inputs=(input, ))\n",
    "print(macs/1e9, params/1e6)"
   ]
  },
  {
   "cell_type": "code",
   "execution_count": null,
   "metadata": {},
   "outputs": [],
   "source": []
  }
 ],
 "metadata": {
  "kernelspec": {
   "display_name": "mmseg",
   "language": "python",
   "name": "python3"
  },
  "language_info": {
   "codemirror_mode": {
    "name": "ipython",
    "version": 3
   },
   "file_extension": ".py",
   "mimetype": "text/x-python",
   "name": "python",
   "nbconvert_exporter": "python",
   "pygments_lexer": "ipython3",
   "version": "3.6.13"
  },
  "orig_nbformat": 4,
  "vscode": {
   "interpreter": {
    "hash": "177fd3b3e8a9acd141a8204cd1d3def8a31236eeda8acb6b43a40c68f1337a89"
   }
  }
 },
 "nbformat": 4,
 "nbformat_minor": 2
}
