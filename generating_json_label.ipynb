{
 "cells": [
  {
   "cell_type": "code",
   "execution_count": 47,
   "metadata": {},
   "outputs": [
    {
     "name": "stdout",
     "output_type": "stream",
     "text": [
      "420 270\n",
      "567 35\n",
      "710 260\n",
      "646 87\n",
      "700 270\n",
      "690 1178\n",
      "420 260\n",
      "721 1257\n"
     ]
    }
   ],
   "source": [
    "# generate lane_idx for TuSimple dataset\n",
    "import json\n",
    "import cv2\n",
    "import os\n",
    "import matplotlib.pyplot as plt\n",
    "import numpy as np\n",
    "\n",
    "gt_parent = \"/home/automan/wuguanjie/TuSimple/train/label_data_0601.json\"\n",
    "saving_path = \"/home/automan/wuguanjie/TuSimple/train/label_data_0601_new.json\"\n",
    "img_parent = \"/home/automan/wuguanjie/TuSimple/test\"\n",
    "with open(gt_parent, \"r\") as f:\n",
    "    old_data = f.readlines()\n",
    "\n",
    "dump_to_json = []\n",
    "\n",
    "for line in old_data:\n",
    "    old_dict = json.loads(line)\n",
    "    slope = []\n",
    "\n",
    "    old_x_coor = old_dict[\"lanes\"]\n",
    "    y_coor = old_dict[\"h_samples\"]\n",
    "    \n",
    "    #zip the coordinates\n",
    "    old_coor_list = [list(zip(i, y_coor)) for i in old_x_coor]\n",
    "    filtered_coor_list = []\n",
    "    #calculate slope\n",
    "    for i in range(len(old_coor_list)):\n",
    "        coor = old_coor_list[i]\n",
    "        last_idx = -1\n",
    "        first_idx = 0\n",
    "        while coor[last_idx][0] == -2 and last_idx > -len(coor):\n",
    "            last_idx -= 1\n",
    "        while coor[first_idx][0] == -2 and first_idx < len(coor) - 1:\n",
    "            first_idx += 1\n",
    "        if last_idx == -len(coor) or first_idx == (len(coor) -1):\n",
    "            continue\n",
    "        filtered_coor_list.append(coor)\n",
    "        slope.append(np.arctan2(coor[last_idx][1] - coor[first_idx][1], coor[first_idx][0] - coor[last_idx][0])/ np.pi* 180)\n",
    "    filtered_coor_list = [filtered_coor_list[i] for i in np.argsort(slope)]\n",
    "    slope = [slope[i] for i in np.argsort(slope)]\n",
    "\n",
    "    #create new coor_list\n",
    "    new_coor_list = []\n",
    "    idx_list = [None, None, None, None]\n",
    "    for i in range(len(slope)):\n",
    "        if slope[i] <= 90:\n",
    "            idx_list[1] = i\n",
    "            idx_list[0] = i - 1 if i > 0 else None\n",
    "        else:\n",
    "            idx_list[2] = i\n",
    "            idx_list[3] = i + 1 if i + 1 < len(slope) else None\n",
    "            break\n",
    "    new_idx_list = []\n",
    "    for i in range(len(idx_list)):\n",
    "        idx = idx_list[i]\n",
    "        if idx is not None:\n",
    "            new_coor_list.append(filtered_coor_list[idx])\n",
    "            new_idx_list.append(i+1)\n",
    "    \n",
    "    # seperate x and y coordinates\n",
    "    lanes = []\n",
    "    for i in new_coor_list:\n",
    "        x, _ = zip(*i)\n",
    "        lanes.append(x)\n",
    "    \n",
    "    old_dict[\"lanes\"] = lanes\n",
    "    old_dict[\"lane_idx\"] = new_idx_list\n",
    "    dump_to_json.append(json.dumps(old_dict))\n",
    "    break\n",
    "\n",
    "with open(saving_path,\"w\") as f:\n",
    "    for line in dump_to_json:\n",
    "        print(line, end=\"\\n\", file=f)"
   ]
  },
  {
   "cell_type": "code",
   "execution_count": null,
   "metadata": {},
   "outputs": [],
   "source": []
  }
 ],
 "metadata": {
  "kernelspec": {
   "display_name": "mmseg",
   "language": "python",
   "name": "python3"
  },
  "language_info": {
   "codemirror_mode": {
    "name": "ipython",
    "version": 3
   },
   "file_extension": ".py",
   "mimetype": "text/x-python",
   "name": "python",
   "nbconvert_exporter": "python",
   "pygments_lexer": "ipython3",
   "version": "3.6.13"
  },
  "orig_nbformat": 4,
  "vscode": {
   "interpreter": {
    "hash": "177fd3b3e8a9acd141a8204cd1d3def8a31236eeda8acb6b43a40c68f1337a89"
   }
  }
 },
 "nbformat": 4,
 "nbformat_minor": 2
}
