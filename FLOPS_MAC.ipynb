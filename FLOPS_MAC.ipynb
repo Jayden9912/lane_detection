{
 "cells": [
  {
   "cell_type": "code",
   "execution_count": 2,
   "metadata": {},
   "outputs": [
    {
     "name": "stdout",
     "output_type": "stream",
     "text": [
      "[INFO] Register count_convNd() for <class 'torch.nn.modules.conv.Conv2d'>.\n",
      "[INFO] Register count_normalization() for <class 'torch.nn.modules.normalization.LayerNorm'>.\n",
      "[INFO] Register count_linear() for <class 'torch.nn.modules.linear.Linear'>.\n",
      "[INFO] Register zero_ops() for <class 'torch.nn.modules.dropout.Dropout'>.\n",
      "[INFO] Register count_normalization() for <class 'torch.nn.modules.batchnorm.BatchNorm2d'>.\n",
      "[INFO] Register zero_ops() for <class 'torch.nn.modules.activation.ReLU'>.\n",
      "[INFO] Register count_softmax() for <class 'torch.nn.modules.activation.Softmax'>.\n",
      "[INFO] Register count_avgpool() for <class 'torch.nn.modules.pooling.AvgPool2d'>.\n",
      "[INFO] Register zero_ops() for <class 'torch.nn.modules.container.Sequential'>.\n",
      "[INFO] Register count_relu() for <class 'torch.nn.modules.activation.LeakyReLU'>.\n",
      "95734578432.0 26921193.0\n"
     ]
    }
   ],
   "source": [
    "#calculating FLOPs and Params\n",
    "from model_segformer import segformer\n",
    "from thop import profile\n",
    "import json\n",
    "import torch\n",
    "with open(\"/home/automan/wuguanjie/SCNN_Pytorch/experiments/exp_CL1_Segformer_tensorboard/cfg.json\") as f:\n",
    "    exp_cfg = json.load(f)\n",
    "model_config = exp_cfg['MODEL_CONFIG']\n",
    "model = segformer(model_config, pretrained=True)\n",
    "input = torch.randn(16, 3, 288, 800)\n",
    "macs, params = profile(model, inputs=(input, ))\n",
    "print(macs, params)"
   ]
  },
  {
   "cell_type": "code",
   "execution_count": null,
   "metadata": {},
   "outputs": [],
   "source": []
  }
 ],
 "metadata": {
  "kernelspec": {
   "display_name": "mmseg",
   "language": "python",
   "name": "python3"
  },
  "language_info": {
   "codemirror_mode": {
    "name": "ipython",
    "version": 3
   },
   "file_extension": ".py",
   "mimetype": "text/x-python",
   "name": "python",
   "nbconvert_exporter": "python",
   "pygments_lexer": "ipython3",
   "version": "3.6.13"
  },
  "orig_nbformat": 4,
  "vscode": {
   "interpreter": {
    "hash": "177fd3b3e8a9acd141a8204cd1d3def8a31236eeda8acb6b43a40c68f1337a89"
   }
  }
 },
 "nbformat": 4,
 "nbformat_minor": 2
}
